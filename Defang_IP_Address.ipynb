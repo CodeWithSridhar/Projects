{
  "nbformat": 4,
  "nbformat_minor": 0,
  "metadata": {
    "colab": {
      "name": "Defang IP Address.ipynb",
      "provenance": [],
      "authorship_tag": "ABX9TyPofhwNkZcI99VLePSTO7Jt",
      "include_colab_link": true
    },
    "kernelspec": {
      "name": "python3",
      "display_name": "Python 3"
    },
    "language_info": {
      "name": "python"
    }
  },
  "cells": [
    {
      "cell_type": "markdown",
      "metadata": {
        "id": "view-in-github",
        "colab_type": "text"
      },
      "source": [
        "<a href=\"https://colab.research.google.com/github/CodeWithSridhar/Projects/blob/main/Defang_IP_Address.ipynb\" target=\"_parent\"><img src=\"https://colab.research.google.com/assets/colab-badge.svg\" alt=\"Open In Colab\"/></a>"
      ]
    },
    {
      "cell_type": "code",
      "metadata": {
        "colab": {
          "base_uri": "https://localhost:8080/"
        },
        "id": "3MkRhZ97Uw6I",
        "outputId": "e9cd3fe7-4827-40c7-a982-ba04092880f4"
      },
      "source": [
        "def ip_address(address):\n",
        "    new_address = \"\"\n",
        "    split_address = address.split(\".\")\n",
        "    separator = \"[.]\"\n",
        "    new_address = separator.join(split_address)\n",
        "    return new_address\n",
        "ipaddress = ip_address(\"192.168.35.27\")\n",
        "print(ipaddress)"
      ],
      "execution_count": 5,
      "outputs": [
        {
          "output_type": "stream",
          "text": [
            "192[.]168[.]35[.]27\n"
          ],
          "name": "stdout"
        }
      ]
    },
    {
      "cell_type": "code",
      "metadata": {
        "id": "Rk4YFh4AWCA4"
      },
      "source": [
        ""
      ],
      "execution_count": null,
      "outputs": []
    }
  ]
}